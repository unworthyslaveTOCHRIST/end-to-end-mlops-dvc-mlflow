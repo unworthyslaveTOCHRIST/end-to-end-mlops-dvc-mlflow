{
 "cells": [
  {
   "cell_type": "code",
   "execution_count": 1,
   "metadata": {},
   "outputs": [],
   "source": [
    "# ALL THANKS AND GLORY TO THE AND my ONLY GOD AND LORD JESUS CHRIST ALONE\n",
    "import os"
   ]
  },
  {
   "cell_type": "code",
   "execution_count": null,
   "metadata": {},
   "outputs": [],
   "source": [
    "!pwd\n"
   ]
  },
  {
   "cell_type": "code",
   "execution_count": 6,
   "metadata": {},
   "outputs": [
    {
     "data": {
      "text/plain": [
       "'c:\\\\Users\\\\FOR_CHRIST_my_LOVE\\\\Desktop\\\\end-to-end-mlops-dvc-mlflow'"
      ]
     },
     "execution_count": 6,
     "metadata": {},
     "output_type": "execute_result"
    }
   ],
   "source": [
    "%pwd"
   ]
  },
  {
   "cell_type": "code",
   "execution_count": 5,
   "metadata": {},
   "outputs": [],
   "source": [
    "os.chdir(\"../\")"
   ]
  },
  {
   "cell_type": "code",
   "execution_count": 7,
   "metadata": {},
   "outputs": [],
   "source": [
    "# BY GOD'S GRACE ALONE, Graciously for configuring the entity folder or the entity in \"config_entity.py\" file\n",
    "\n",
    "from dataclasses import dataclass\n",
    "from pathlib import Path\n",
    "\n",
    "@dataclass(frozen=True)\n",
    "class DataIngestionConfig:\n",
    "    root_dir : Path\n",
    "    source_URL : str\n",
    "    local_data_file : Path\n",
    "    unzip_dir: Path  #Graciously declaring class variables without using the self. prefix\n",
    "    "
   ]
  },
  {
   "cell_type": "code",
   "execution_count": null,
   "metadata": {},
   "outputs": [],
   "source": [
    "# BY GOD'S GRACE ALONE, Graciously belongs to the configuration manager in \"configuration.py\" under the config subdirectory in the src directory\n",
    "\n",
    "from GTLJC_cnnClassifier.constants import *\n",
    "from GTLJC_cnnClassifier.utils.commons import read_yaml, create_directories"
   ]
  },
  {
   "cell_type": "code",
   "execution_count": 12,
   "metadata": {},
   "outputs": [],
   "source": [
    "# BY GOD'S GRACE ALONE, Graciously belongs to the configuration manager additionally in \"configuration.py\" under the config subdirectory in the src directory\n",
    "\n",
    "class ConfigurationManager:\n",
    "    def __init__( self, config_filepath = CONFIG_FILE_PATH, params_filepath = PARAMS_FILE_PATH ):\n",
    "            self.config = read_yaml(config_filepath)\n",
    "            self.params = read_yaml(params_filepath)\n",
    "            \n",
    "            create_directories([self.config.artifacts_root])\n",
    "\n",
    "    def get_data_ingestion_config(self) -> DataIngestionConfig:\n",
    "          config = self.config.data_ingestion\n",
    "\n",
    "          create_directories([config.root_dir])\n",
    "\n",
    "          data_ingestion_config = DataIngestionConfig(\n",
    "                root_dir=config.root_dir,\n",
    "                source_URL = config.source_URL,\n",
    "                local_data_file=config.local_data_file,\n",
    "                unzip_dir = config.unzip_dir\n",
    "          )\n",
    "\n",
    "          return data_ingestion_config\n",
    "    "
   ]
  },
  {
   "cell_type": "code",
   "execution_count": 13,
   "metadata": {},
   "outputs": [],
   "source": [
    "# BY GOD'S GRACE ALONE, Graciously belongs to the \"data_ingestion.py\" under components folder in the src directory\n",
    "from GTLJC_cnnClassifier import GTLJC_logger\n",
    "import gdown\n",
    "import os\n",
    "import zipfile\n",
    "from GTLJC_cnnClassifier.utils.commons import get_size\n",
    "\n",
    "class DataIngestion:\n",
    "    def __init__(self, config: DataIngestionConfig):\n",
    "        self.config = config\n",
    "\n",
    "    def download_file(self)-> str:\n",
    "        \"\"\"\n",
    "            Graciously fetching data from url\n",
    "        \"\"\"\n",
    "\n",
    "        try:\n",
    "            dataset_url = self.config.source_URL\n",
    "            zip_download_dir = self.config.local_data_file\n",
    "            os.makedirs(\"artifacts/data_ingestion\", exist_ok=True)\n",
    "            GTLJC_logger.info(f\"Graciously downloading data from {dataset_url} into file {zip_download_dir}\")\n",
    "\n",
    "            file_id = dataset_url.split(\"/\")[-2]\n",
    "            prefix = f\"https://drive.google.com/uc?/export-download&id={file_id}\"\n",
    "            gdown.download(prefix,zip_download_dir)\n",
    "\n",
    "            GTLJC_logger.info(f\"Graciously downloaded data from {dataset_url} into file {zip_download_dir}\")\n",
    "\n",
    "        except Exception as e:\n",
    "            raise \n",
    "    \n",
    "\n",
    "    def extract_zip_file(self):\n",
    "        \"\"\"\n",
    "            BY GOD'S GRACE ALONE\n",
    "        \"\"\"\n",
    "        unzip_path = self.config.unzip_dir\n",
    "        os.makedirs(unzip_path, exist_ok = True)\n",
    "        with zipfile.ZipFile(self.config.local_data_file,\"r\") as zip_ref:\n",
    "            zip_ref.extractall(unzip_path)\n",
    "    \n",
    "\n",
    "\n"
   ]
  },
  {
   "cell_type": "code",
   "execution_count": 14,
   "metadata": {},
   "outputs": [
    {
     "name": "stdout",
     "output_type": "stream",
     "text": [
      "[2025-01-30 05:50:32,036: INFO: commons: yaml file: config\\config.yaml loaded Graciously successfully]\n",
      "[2025-01-30 05:50:32,050: INFO: commons: yaml file: params.yaml loaded Graciously successfully]\n",
      "[2025-01-30 05:50:32,061: INFO: commons: created directory at: artifacts]\n",
      "[2025-01-30 05:50:32,061: INFO: commons: created directory at: artifacts/data_ingestion]\n",
      "[2025-01-30 05:50:32,065: INFO: 3990167069: Graciously downloading data from https://drive.google.com/file/d/1bGoP_uoXrwqR2EfiorLvDiD-vS0HdE1j/view?usp=sharing into file artifacts/data_ingestion/data.zip]\n"
     ]
    },
    {
     "name": "stderr",
     "output_type": "stream",
     "text": [
      "Downloading...\n",
      "From (original): https://drive.google.com/uc?/export-download&id=1bGoP_uoXrwqR2EfiorLvDiD-vS0HdE1j\n",
      "From (redirected): https://drive.google.com/uc?id=1bGoP_uoXrwqR2EfiorLvDiD-vS0HdE1j&confirm=t&uuid=d830d20b-507c-4743-ae28-79644b7f836a\n",
      "To: c:\\Users\\FOR_CHRIST_my_LOVE\\Desktop\\end-to-end-mlops-dvc-mlflow\\artifacts\\data_ingestion\\data.zip\n",
      "100%|██████████| 49.0M/49.0M [00:19<00:00, 2.47MB/s]"
     ]
    },
    {
     "name": "stdout",
     "output_type": "stream",
     "text": [
      "[2025-01-30 05:50:57,787: INFO: 3990167069: Graciously downloaded data from https://drive.google.com/file/d/1bGoP_uoXrwqR2EfiorLvDiD-vS0HdE1j/view?usp=sharing into file artifacts/data_ingestion/data.zip]\n"
     ]
    },
    {
     "name": "stderr",
     "output_type": "stream",
     "text": [
      "\n"
     ]
    }
   ],
   "source": [
    "# BY GOD'S GRACE ALONE, Gracious snippet to be added into the pipeline folder under the src directory\n",
    "try:\n",
    "    config = ConfigurationManager()\n",
    "    data_ingestion_config = config.get_data_ingestion_config()\n",
    "    data_ingestion = DataIngestion(config=data_ingestion_config)\n",
    "    data_ingestion.download_file()\n",
    "    data_ingestion.extract_zip_file()\n",
    "except Exception as e:\n",
    "    raise e"
   ]
  },
  {
   "cell_type": "code",
   "execution_count": null,
   "metadata": {},
   "outputs": [],
   "source": []
  }
 ],
 "metadata": {
  "kernelspec": {
   "display_name": "GTLJC_forTheLord",
   "language": "python",
   "name": "python3"
  },
  "language_info": {
   "codemirror_mode": {
    "name": "ipython",
    "version": 3
   },
   "file_extension": ".py",
   "mimetype": "text/x-python",
   "name": "python",
   "nbconvert_exporter": "python",
   "pygments_lexer": "ipython3",
   "version": "3.8.0"
  }
 },
 "nbformat": 4,
 "nbformat_minor": 2
}
